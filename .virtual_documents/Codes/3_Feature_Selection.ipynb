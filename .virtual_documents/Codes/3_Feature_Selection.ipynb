import pandas as pd
import numpy as np
import seaborn as sns
import matplotlib.pyplot as plt
from sklearn.linear_model import Lasso
from sklearn.feature_selection import SelectFromModel
pd.pandas.set_option('display.max_columns', None)


df1 = pd.read_csv("df1.csv")


df1.head(1)





y_train = df1[['SalePrice']]


y_train.head(1)


X_train = df1.drop(['ID', 'SalePrice'], axis = 1)


X_train.head(3)


# Applying Feature Selection.
feature_sel_model = SelectFromModel(Lasso(alpha=0.005, random_state=1))
feature_sel_model.fit(X_train, y_train)


feature_sel_model.get_support()


# Making list of selected features.
selected_features = X_train.columns[(feature_sel_model.get_support())]
print("Total Features {}".format((X_train.shape[1])))
print("selected features: {}".format(len(selected_features)))
print("Features with coefficient 0: {}".format(
    np.sum(feature_sel_model.estimator_.coef_ == 0)))


selected_features


# Only selected features.
X_train_selected = X_train[selected_features]


X_train.head(3)
print(X_train_selected.shape)


X_train_selected



