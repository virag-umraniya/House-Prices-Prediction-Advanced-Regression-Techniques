





import pandas as pd
import numpy as np
import matplotlib.pyplot as plt
import seaborn as sns
pd.pandas.set_option('display.max_columns', None)


df = pd.read_csv("../Data/data.csv")


df.head(1)


# Changing Column name for better Understanding.
# Column name mapping (already generated above)
column_mapping = {
    'Id': 'ID',
    'MSSubClass': 'BuildingClass',
    'MSZoning': 'ZoningClass',
    'LotFrontage': 'LotFrontageFt',
    'LotArea': 'LotAreaSqFt',
    'Street': 'StreetType',
    'Alley': 'AlleyAccess',
    'LotShape': 'LotShape',
    'LandContour': 'LandContour',
    'Utilities': 'UtilityAccess',
    'LotConfig': 'LotConfiguration',
    'LandSlope': 'LandSlopeType',
    'Neighborhood': 'NeighborhoodName',
    'Condition1': 'ConditionPrimary',
    'Condition2': 'ConditionSecondary',
    'BldgType': 'BuildingType',
    'HouseStyle': 'HouseStyle',
    'OverallQual': 'OverallQuality',
    'OverallCond': 'OverallCondition',
    'YearBuilt': 'YearBuilt',
    'YearRemodAdd': 'YearRemodeled',
    'RoofStyle': 'RoofStyle',
    'RoofMatl': 'RoofMaterial',
    'Exterior1st': 'ExteriorCovering1',
    'Exterior2nd': 'ExteriorCovering2',
    'MasVnrType': 'MasonryType',
    'MasVnrArea': 'MasonryArea',
    'ExterQual': 'ExteriorQuality',
    'ExterCond': 'ExteriorCondition',
    'Foundation': 'FoundationType',
    'BsmtQual': 'BasementQuality',
    'BsmtCond': 'BasementCondition',
    'BsmtExposure': 'BasementExposure',
    'BsmtFinType1': 'BasementFinishType1',
    'BsmtFinSF1': 'BasementFinishedArea1',
    'BsmtFinType2': 'BasementFinishType2',
    'BsmtFinSF2': 'BasementFinishedArea2',
    'BsmtUnfSF': 'BasementUnfinishedSF',
    'TotalBsmtSF': 'TotalBasementSF',
    'Heating': 'HeatingType',
    'HeatingQC': 'HeatingQuality',
    'CentralAir': 'CentralAirConditioning',
    'Electrical': 'ElectricalSystem',
    '1stFlrSF': 'FirstFloorSF',
    '2ndFlrSF': 'SecondFloorSF',
    'LowQualFinSF': 'LowQualitySF',
    'GrLivArea': 'AboveGroundLivingArea',
    'BsmtFullBath': 'BasementFullBath',
    'BsmtHalfBath': 'BasementHalfBath',
    'FullBath': 'FullBathrooms',
    'HalfBath': 'HalfBathrooms',
    'BedroomAbvGr': 'BedroomsAboveGround',
    'KitchenAbvGr': 'KitchensAboveGround',
    'KitchenQual': 'KitchenQuality',
    'TotRmsAbvGrd': 'TotalRoomsAboveGround',
    'Functional': 'Functionality',
    'Fireplaces': 'NumberOfFireplaces',
    'FireplaceQu': 'FireplaceQuality',
    'GarageType': 'GarageType',
    'GarageYrBlt': 'GarageYearBuilt',
    'GarageFinish': 'GarageFinishType',
    'GarageCars': 'GarageCapacity',
    'GarageArea': 'GarageArea',
    'GarageQual': 'GarageQuality',
    'GarageCond': 'GarageCondition',
    'PavedDrive': 'DrivewayPaved',
    'WoodDeckSF': 'WoodDeckArea',
    'OpenPorchSF': 'OpenPorchArea',
    'EnclosedPorch': 'EnclosedPorchArea',
    '3SsnPorch': 'ThreeSeasonPorchArea',
    'ScreenPorch': 'ScreenPorchArea',
    'PoolArea': 'PoolArea',
    'PoolQC': 'PoolQuality',
    'Fence': 'FenceType',
    'MiscFeature': 'MiscellaneousFeature',
    'MiscVal': 'MiscellaneousValue',
    'MoSold': 'MonthSold',
    'YrSold': 'YearSold',
    'SaleType': 'SaleType',
    'SaleCondition': 'SaleCondition',
    'SalePrice': 'SalePrice'
}

# Rename columns in the DataFrame
df.rename(columns=column_mapping, inplace=True)


df.head(1)


# Splitting data for feature engineering
from sklearn.model_selection import train_test_split
X_train, X_test, y_train, y_test = train_test_split(df, df['SalePrice'], test_size=0.1, random_state=1)


X_train.shape, X_test.shape


cat_NaN_cols = [col for col in df.columns if df[col].isnull().sum() > 0 and df[col].dtypes == 'O']
for col in cat_NaN_cols:
    print(f"{col}: {df[col].isnull().sum()} Missing Values")


# NaN in Percentage
for col in cat_NaN_cols:
    print("{}: {}% missing values".format(col, np.round(df[col].isnull().mean(), 2)))


def replace_cat_col(df, cat_NaN_cols):
    data = df.copy()
    data[cat_NaN_cols] = data[cat_NaN_cols].fillna('Missing')
    return data
df = replace_cat_col(df, cat_NaN_cols)
df[cat_NaN_cols].isnull().sum()


numeric_NaN_cols = [col for col in df.columns if df[col].isnull().sum() > 0 and df[col].dtypes != 'O']
for col in numeric_NaN_cols:
    print("{}: {}% Missing Values".format(col, np.around(df[col].isnull().mean(), 3)))


# Replacing Null values with median as there are outliers.
for col in numeric_cols:
    median_values = df[col].median()
    df[col + 'nan'] = np.where(df[col].isnull(), 1, 0)
    df[col] = df[col].fillna(median_values)
df[numeric_NaN_cols].isnull().sum()


df.head(1)



