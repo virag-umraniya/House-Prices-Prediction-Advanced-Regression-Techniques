


import pandas as pd
import numpy as np
import seaborn as sns
import matplotlib.pyplot as plt
pd.set_option('display.max_columns', None)


df = pd.read_csv("../Data/data.csv")


df.head(1)


# Changing Column name for better Understanding.
# Column name mapping (already generated above)
column_mapping = {
    'Id': 'ID',
    'MSSubClass': 'BuildingClass',
    'MSZoning': 'ZoningClass',
    'LotFrontage': 'LotFrontageFt',
    'LotArea': 'LotAreaSqFt',
    'Street': 'StreetType',
    'Alley': 'AlleyAccess',
    'LotShape': 'LotShape',
    'LandContour': 'LandContour',
    'Utilities': 'UtilityAccess',
    'LotConfig': 'LotConfiguration',
    'LandSlope': 'LandSlopeType',
    'Neighborhood': 'NeighborhoodName',
    'Condition1': 'ConditionPrimary',
    'Condition2': 'ConditionSecondary',
    'BldgType': 'BuildingType',
    'HouseStyle': 'HouseStyle',
    'OverallQual': 'OverallQuality',
    'OverallCond': 'OverallCondition',
    'YearBuilt': 'YearBuilt',
    'YearRemodAdd': 'YearRemodeled',
    'RoofStyle': 'RoofStyle',
    'RoofMatl': 'RoofMaterial',
    'Exterior1st': 'ExteriorCovering1',
    'Exterior2nd': 'ExteriorCovering2',
    'MasVnrType': 'MasonryType',
    'MasVnrArea': 'MasonryArea',
    'ExterQual': 'ExteriorQuality',
    'ExterCond': 'ExteriorCondition',
    'Foundation': 'FoundationType',
    'BsmtQual': 'BasementQuality',
    'BsmtCond': 'BasementCondition',
    'BsmtExposure': 'BasementExposure',
    'BsmtFinType1': 'BasementFinishType1',
    'BsmtFinSF1': 'BasementFinishedArea1',
    'BsmtFinType2': 'BasementFinishType2',
    'BsmtFinSF2': 'BasementFinishedArea2',
    'BsmtUnfSF': 'BasementUnfinishedSF',
    'TotalBsmtSF': 'TotalBasementSF',
    'Heating': 'HeatingType',
    'HeatingQC': 'HeatingQuality',
    'CentralAir': 'CentralAirConditioning',
    'Electrical': 'ElectricalSystem',
    '1stFlrSF': 'FirstFloorSF',
    '2ndFlrSF': 'SecondFloorSF',
    'LowQualFinSF': 'LowQualitySF',
    'GrLivArea': 'AboveGroundLivingArea',
    'BsmtFullBath': 'BasementFullBath',
    'BsmtHalfBath': 'BasementHalfBath',
    'FullBath': 'FullBathrooms',
    'HalfBath': 'HalfBathrooms',
    'BedroomAbvGr': 'BedroomsAboveGround',
    'KitchenAbvGr': 'KitchensAboveGround',
    'KitchenQual': 'KitchenQuality',
    'TotRmsAbvGrd': 'TotalRoomsAboveGround',
    'Functional': 'Functionality',
    'Fireplaces': 'NumberOfFireplaces',
    'FireplaceQu': 'FireplaceQuality',
    'GarageType': 'GarageType',
    'GarageYrBlt': 'GarageYearBuilt',
    'GarageFinish': 'GarageFinishType',
    'GarageCars': 'GarageCapacity',
    'GarageArea': 'GarageArea',
    'GarageQual': 'GarageQuality',
    'GarageCond': 'GarageCondition',
    'PavedDrive': 'DrivewayPaved',
    'WoodDeckSF': 'WoodDeckArea',
    'OpenPorchSF': 'OpenPorchArea',
    'EnclosedPorch': 'EnclosedPorchArea',
    '3SsnPorch': 'ThreeSeasonPorchArea',
    'ScreenPorch': 'ScreenPorchArea',
    'PoolArea': 'PoolArea',
    'PoolQC': 'PoolQuality',
    'Fence': 'FenceType',
    'MiscFeature': 'MiscellaneousFeature',
    'MiscVal': 'MiscellaneousValue',
    'MoSold': 'MonthSold',
    'YrSold': 'YearSold',
    'SaleType': 'SaleType',
    'SaleCondition': 'SaleCondition',
    'SalePrice': 'SalePrice'
}

# Rename columns in the DataFrame
df.rename(columns=column_mapping, inplace=True)








NaN = df.isnull().sum()
NaN = NaN[NaN > 0].sort_values(ascending = False)
NaN_df = NaN.reset_index()
NaN_df.columns = ['Column', 'NaN']


NaN_df


sns.barplot(x='Column', y = 'NaN', data=NaN_df)
plt.xticks(rotation = 90)
plt.title('Missing values per column')
plt.show()


Missing_values = df.columns[df.isnull().sum() > 0]  # this is a list of column names

for feature in Missing_values:
    data = df.copy()
    
    # Create missing indicator
    data[feature + '_NA'] = np.where(data[feature].isnull(), 'Missing', 'Present')
    
    # Boxplot to show SalePrice distribution
    plt.figure(figsize=(6, 4))
    sns.boxplot(x=feature + '_NA', y='SalePrice', data=data)
    plt.title(f'SalePrice vs Missingness in {feature}')
    plt.xlabel(f'{feature} Missingness')
    plt.ylabel('SalePrice')
    plt.tight_layout()
    plt.show()





for feature in Missing_values:
    data = df.copy()
    
    # missing or present flag
    data[feature] = np.where(data[feature].isnull(), "Missing", "Present")
    
    # median SalePrice for missing/present and plot bar
    ax = data.groupby(feature)['SalePrice'].median().plot.bar()
    plt.title(feature)
    
    # Set x-axis labels horizontally
    ax.set_xticklabels(ax.get_xticklabels(), rotation=0)  # rotation=0 for horizontal
    plt.ylabel("Sale Price")
    plt.tight_layout()
    plt.show()








# list of numerical cols
numerical_features = []

for feature in df.columns:
    if df[feature].dtypes != 'O':
        numerical_features.append(feature)
print("Length of numerical columns:",len(numerical_features))
numerical_df = df[numerical_features]
numerical_df.head(1)


# list of year cols
year_features = [col for col in df.columns if 'year' in col.lower() or 'yr' in col.lower()]
year_df = df[year_features]
year_df.head(1)


# unique values of year_df
for col in year_df:
    unique_values = df[col].unique()
    print(f"\nUnique values in {col}:")
    print(np.sort(unique_values))


# Lets analyse the relation b/w House year sold and sale price
df.groupby('YearSold')['SalePrice'].median().plot()
plt.ylabel('Median Sale price')
plt.title('Saleprice vs Year sold')
plt.tight_layout()





# House age vs house price.
for col in year_df:
    if(col != 'YearSold'):
        df1 = df.copy()
        df1[col] = df1['YearSold'] - df1[col]

        plt.scatter(df1[col], df1['SalePrice'])
        plt.xlabel(col)
        plt.ylabel("Sale Price")
        plt.show()





# Now Numeric cols are 2 types.
# 1. Discrete Variables.
# 2. Continous Variables.


discrete_cols = [col for col in numerical_df if len(numerical_df[col].unique()) <= 25 and col not in year_features + ['Id']]
discrete_df = df[discrete_cols]
discrete_df.head(1)


from IPython.display import Image

# Show image from local path
Image(filename='MSSubclass_Meaning.png')  # replace with your image file name
# Understanding what is MSSubclass.


# discrete_cols vs saleprice
for col in discrete_df:
    data = df.copy()
    data.groupby(col)['SalePrice'].median().plot.bar()
    plt.xlabel(col)
    plt.xticks(rotation = 0)
    plt.ylabel('SalePrice')
    plt.title(col)
    plt.tight_layout()
    plt.show()


# Now, Continous variable.
continuous_cols = [col for col in numerical_df if col not in discrete_cols + year_features + ['ID']]
continuous_df = df[continuous_cols]
continuous_df.head(1)


for col in continuous_cols:
    data = df.copy()
    data[col].hist(bins=25)
    plt.xlabel(col)
    plt.ylabel('Count')
    plt.tight_layout
    plt.title(f'Count of {col}')
    plt.show()





# Logarithmic Transformation to stablize the values.
for col in continuous_cols:
    data = df.copy()
    if 0 in data[col].unique():
        pass
    else:
        data[col] = np.log(data[col])
        data['SalePrice'] = np.log(data['SalePrice'])
        plt.scatter(data[col], data['SalePrice'])
        plt.xlabel(col)
        plt.ylabel('SalePrice')
        plt.title(col)
        plt.tight_layout()
        plt.show()


# To Check Outliers.
for col in continuous_cols:
    data = df.copy()
    if 0 in data[col].unique():
        pass
    else:
        data[col] = np.log(data[col])
        data['SalePrice'] = np.log(data['SalePrice'])
        data.boxplot(column = col)
        plt.xlabel(col)
        plt.ylabel('SalePrice')
        plt.title(f'box plot of {col}')
        plt.tight_layout()
        plt.show()


# Categorical Variables
categorical_cols = [col for col in df.columns if data[col].dtype == 'O']
categorical_df = df[categorical_cols]
print(categorical_df.shape)
categorical_df.head(1)


for col in categorical_df.columns:
    print(f"{col}: {categorical_df[col].unique()} unique values")


for col in categorical_df:
    data = df.copy()
    data.groupby(col)['SalePrice'].median().plot.bar()
    plt.xlabel(f"{col}")
    plt.ylabel('SalePrice')
    plt.xticks(rotation = 0)
    plt.title(f"{col} vs Sales Price")
    plt.tight_layout()
    plt.show()
